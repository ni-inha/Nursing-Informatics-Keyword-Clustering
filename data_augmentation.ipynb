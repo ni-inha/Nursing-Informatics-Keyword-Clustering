{
 "cells": [
  {
   "cell_type": "code",
   "execution_count": 1,
   "id": "23a07414",
   "metadata": {},
   "outputs": [],
   "source": [
    "import pandas as pd"
   ]
  },
  {
   "cell_type": "code",
   "execution_count": 40,
   "id": "0cf4e40e",
   "metadata": {},
   "outputs": [],
   "source": [
    "csv = pd.read_csv('data/processed_data/ngram_data_frequency_2021.csv') #,encoding='cp949'\n",
    "index = csv['index_1'].dropna()\n",
    "list = []\n",
    "for i in range(len(index)):\n",
    "    if(csv['Flag_1'][i]=='O'):\n",
    "        word = csv['bigram/trigram'][i].split(' ')\n",
    "        for j in range(len(word)):\n",
    "            list.append(word[j])\n",
    "series = pd.Series(list)\n",
    "bi_tri_dict = series.value_counts().index"
   ]
  },
  {
   "cell_type": "code",
   "execution_count": 41,
   "id": "f2601ded",
   "metadata": {},
   "outputs": [
    {
     "data": {
      "text/plain": [
       "Index(['health', 'nursing', 'information', 'informatics', 'care', 'emr',\n",
       "       'clinical', 'patient', 'records', 'management',\n",
       "       ...\n",
       "       'determinants', 'social', 'errors', 'competency', 'web', 'infection',\n",
       "       'wound', 'computer', 'implementation', 'stigma'],\n",
       "      dtype='object', length=140)"
      ]
     },
     "execution_count": 41,
     "metadata": {},
     "output_type": "execute_result"
    }
   ],
   "source": [
    "bi_tri_dict"
   ]
  },
  {
   "cell_type": "code",
   "execution_count": 61,
   "id": "c83b605f",
   "metadata": {},
   "outputs": [],
   "source": [
    "index = csv['index_2'].dropna()\n",
    "list = []\n",
    "for i in range(len(index)):\n",
    "    if(csv['Flag_2'][i]=='O'):\n",
    "        list.append(csv['unigram'][i])\n",
    "series = pd.Series(list)\n",
    "uni_dict = series.value_counts().index"
   ]
  },
  {
   "cell_type": "code",
   "execution_count": 62,
   "id": "ef35ec21",
   "metadata": {},
   "outputs": [
    {
     "data": {
      "text/plain": [
       "Index(['emr', 'workarounds', 'robots', 'app', 'holographic', 'icnp', 'japan',\n",
       "       'woscc', 'dashboard', 'elderly', 'stigma', 'telerehabilitation',\n",
       "       'canada', 'usability', 'innovation', 'workload', 'chatbots', 'mhealth',\n",
       "       'symptoms', 'telehealth', 'web', 'ai', 'ehr', 'outcomes', 'omaha'],\n",
       "      dtype='object')"
      ]
     },
     "execution_count": 62,
     "metadata": {},
     "output_type": "execute_result"
    }
   ],
   "source": [
    "uni_dict"
   ]
  },
  {
   "cell_type": "code",
   "execution_count": 53,
   "id": "bcb7eedd",
   "metadata": {},
   "outputs": [],
   "source": [
    "words=[]\n",
    "for i in range(len(csv['unigram'])):\n",
    "    words.append(csv['unigram'][i])"
   ]
  },
  {
   "cell_type": "code",
   "execution_count": 54,
   "id": "3ab62dad",
   "metadata": {},
   "outputs": [],
   "source": [
    "list = []\n",
    "for word in words:\n",
    "    if word in bi_tri_dict:\n",
    "        continue\n",
    "    else:\n",
    "        list.append(word)"
   ]
  },
  {
   "cell_type": "code",
   "execution_count": 56,
   "id": "d4f9fbc1",
   "metadata": {},
   "outputs": [
    {
     "data": {
      "text/plain": [
       "2085"
      ]
     },
     "execution_count": 56,
     "metadata": {},
     "output_type": "execute_result"
    }
   ],
   "source": [
    "len(list)"
   ]
  },
  {
   "cell_type": "code",
   "execution_count": null,
   "id": "b897da61",
   "metadata": {},
   "outputs": [],
   "source": []
  }
 ],
 "metadata": {
  "kernelspec": {
   "display_name": "spacy_kernel",
   "language": "python",
   "name": "spacy"
  },
  "language_info": {
   "codemirror_mode": {
    "name": "ipython",
    "version": 3
   },
   "file_extension": ".py",
   "mimetype": "text/x-python",
   "name": "python",
   "nbconvert_exporter": "python",
   "pygments_lexer": "ipython3",
   "version": "3.8.13"
  }
 },
 "nbformat": 4,
 "nbformat_minor": 5
}
